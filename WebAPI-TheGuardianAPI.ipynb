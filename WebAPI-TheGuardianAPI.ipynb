{
 "cells": [
  {
   "cell_type": "code",
   "execution_count": 1,
   "metadata": {},
   "outputs": [],
   "source": [
    "# Import dependencies\n",
    "\n",
    "import requests\n",
    "import time"
   ]
  },
  {
   "cell_type": "code",
   "execution_count": 2,
   "metadata": {},
   "outputs": [],
   "source": [
    "# Settiing up The Guardian API\n",
    "# Query for mental health services starting January 01, 2020 \n",
    "\n",
    "url = \"https://content.guardianapis.com/search?\"\n",
    "api_key= \"YOUR API KEY HERE\"\n",
    "\n",
    "# Store a search term\n",
    "query = \"mental health services, COVID\"\n",
    "\n",
    "# Search for articles published between a begin and end date\n",
    "begin_date = \"2020-01-01\"\n",
    "\n",
    "# query_url = f\"{url}q={query}&from_param={begin_date}&to={end_date}&apiKey={api_key}\"\n",
    "query_url = f\"{url}q={query}&from-date={begin_date}&api-key={api_key}\""
   ]
  },
  {
   "cell_type": "code",
   "execution_count": 3,
   "metadata": {},
   "outputs": [
    {
     "name": "stdout",
     "output_type": "stream",
     "text": [
      "2020-07-15T06:00:04Z\n",
      "Can mental health services cope with the devastating effects of Covid-19?\n",
      "https://www.theguardian.com/society/2020/jul/15/can-mental-health-services-cope-with-the-devastating-effects-of-covid-19\n",
      "---------------------------\n",
      "2020-07-09T04:16:43Z\n",
      "Calls to mental health services in Victoria double as strain of Covid-19 lockdown shows\n",
      "https://www.theguardian.com/australia-news/2020/jul/09/calls-mental-health-services-victoria-double-covid-19-lockdown-strain-coronavirus\n",
      "---------------------------\n",
      "2020-08-14T23:01:22Z\n",
      "'Sheer fear': mental health impacts of Covid-19 come to fore\n",
      "https://www.theguardian.com/world/2020/aug/14/sheer-fear-mental-health-impacts-of-covid-19-come-to-fore\n",
      "---------------------------\n",
      "2020-08-23T11:00:54Z\n",
      "Calls for mental health help double in Manchester under Covid restrictions\n",
      "https://www.theguardian.com/uk-news/2020/aug/23/calls-to-mental-health-helplines-double-in-manchester-under-covid-restrictions\n",
      "---------------------------\n",
      "2020-07-16T05:00:24Z\n",
      "Scotland's children need post-Covid-19 mental health care, says report\n",
      "https://www.theguardian.com/society/2020/jul/16/scotlands-children-need-post-covid-19-mental-health-care-says-report\n",
      "---------------------------\n",
      "2020-08-24T06:00:17Z\n",
      "'It all crumbled': pop stars on mental health in the age of Covid\n",
      "https://www.theguardian.com/music/2020/aug/24/it-all-crumbled-pop-stars-on-mental-health-in-the-age-of-covid\n",
      "---------------------------\n",
      "2020-06-28T12:48:43Z\n",
      "Screen survivors of Covid-19 for PTSD, say mental health experts\n",
      "https://www.theguardian.com/world/2020/jun/28/screen-survivors-of-covid-19-for-ptsd-say-mental-health-experts\n",
      "---------------------------\n",
      "2020-06-29T05:00:24Z\n",
      "Boost NHS mental health youth services to tackle radicalisation, say psychiatrists\n",
      "https://www.theguardian.com/society/2020/jun/29/boost-nhs-mental-health-youth-services-to-tackle-radicalisation-say-psychiatrists\n",
      "---------------------------\n",
      "2020-08-19T11:45:48Z\n",
      "Mental health in the workplace: what can employers do to help during Covid-19?\n",
      "https://www.theguardian.com/getting-back-on-track/2020/aug/19/mental-health-in-the-workplace-what-can-employers-do-to-help-during-covid-19\n",
      "---------------------------\n",
      "2020-06-21T12:29:35Z\n",
      "Covid-19 affects BAME youth mental health more than white peers – study\n",
      "https://www.theguardian.com/society/2020/jun/21/covid-19-hits-bame-youth-mental-health-worse-than-white-peers-study\n",
      "---------------------------\n"
     ]
    }
   ],
   "source": [
    "# Retrieve articles - First 10\n",
    "articles = requests.get(query_url).json()\n",
    "articles_list = articles[\"response\"][\"results\"]\n",
    "\n",
    "for article in articles_list:\n",
    "    print(article[\"webPublicationDate\"])\n",
    "    print(article[\"webTitle\"])\n",
    "    print(article[\"webUrl\"])\n",
    "    print('---------------------------')"
   ]
  },
  {
   "cell_type": "code",
   "execution_count": null,
   "metadata": {},
   "outputs": [],
   "source": []
  }
 ],
 "metadata": {
  "kernelspec": {
   "display_name": "Python 3",
   "language": "python",
   "name": "python3"
  },
  "language_info": {
   "codemirror_mode": {
    "name": "ipython",
    "version": 3
   },
   "file_extension": ".py",
   "mimetype": "text/x-python",
   "name": "python",
   "nbconvert_exporter": "python",
   "pygments_lexer": "ipython3",
   "version": "3.7.4"
  }
 },
 "nbformat": 4,
 "nbformat_minor": 4
}
